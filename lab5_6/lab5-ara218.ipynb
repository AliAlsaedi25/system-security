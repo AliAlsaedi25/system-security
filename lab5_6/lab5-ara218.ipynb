{
  "nbformat": 4,
  "nbformat_minor": 0,
  "metadata": {
    "colab": {
      "provenance": []
    },
    "kernelspec": {
      "name": "python3",
      "display_name": "Python 3"
    },
    "language_info": {
      "name": "python"
    }
  },
  "cells": [
    {
      "cell_type": "code",
      "execution_count": 2,
      "metadata": {
        "colab": {
          "base_uri": "https://localhost:8080/"
        },
        "id": "rhXO696FK7EM",
        "outputId": "6c218ede-9bfb-425a-c1a1-d4bd1c6ff72e"
      },
      "outputs": [
        {
          "output_type": "stream",
          "name": "stdout",
          "text": [
            "The value of P: 23\n",
            "The value of G: 9\n",
            "The private key a for Alice: 4\n",
            "The private key b for Bob: 3\n",
            "Secret key for the Alice is: 9\n",
            "Secret Key for the Bob is: 9\n"
          ]
        }
      ],
      "source": [
        "def power(a, b, p):\n",
        "    if b == 1:\n",
        "        return a % p\n",
        "    else:\n",
        "        return pow(a, b, p)\n",
        "\n",
        "def dh_generatePublicKey(P, G, privateKey):\n",
        "    publicKey = pow(G, privateKey, P)\n",
        "    return publicKey\n",
        "\n",
        "def dh_generateSecretKey(publicKey, privateKey, P):\n",
        "    secretKey = pow(publicKey, privateKey, P)\n",
        "    return secretKey\n",
        "\n",
        "def main():\n",
        "    P = 0; G = 0; x = 0; a = x\n",
        "    y = 0; b = 0\n",
        "    ka = 0; kb = 0\n",
        "\n",
        "    # Both the users will be agreed upon the public keys G and P\n",
        "    P = 23; # A prime number P is taken\n",
        "    print(\"The value of P:\", P)\n",
        "\n",
        "    G = 9; # A primitive root for P, G is taken\n",
        "    print(\"The value of G:\", G)\n",
        "\n",
        "    # Alice will choose the private key a\n",
        "    a = 4; # a is the chosen private key\n",
        "    print(\"The private key a for Alice:\", a)\n",
        "\n",
        "    x = dh_generatePublicKey(P,G,a)\n",
        "\n",
        "    # Bob will choose the private key b\n",
        "    b = 3; # b is the chosen private key\n",
        "    print(\"The private key b for Bob:\", b)\n",
        "\n",
        "    y = dh_generatePublicKey(P,G,b)\n",
        "\n",
        "    # Generating the secret key after the exchange of keys\n",
        "    ka = dh_generateSecretKey(y,a,P)\n",
        "    kb = dh_generateSecretKey(x,b,P)\n",
        "    \n",
        "    print(\"Secret key for the Alice is:\", ka)\n",
        "    print(\"Secret Key for the Bob is:\", kb)\n",
        "\n",
        "main()"
      ]
    }
  ]
}