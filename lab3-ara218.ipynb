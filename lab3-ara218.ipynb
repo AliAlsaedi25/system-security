{
 "cells": [
  {
   "cell_type": "code",
   "execution_count": 1,
   "metadata": {},
   "outputs": [
    {
     "name": "stdout",
     "output_type": "stream",
     "text": [
      "encrypted UserID: hurwduk\n",
      "encrypted Password: 654sphw\n",
      "original UserID: hratore\n",
      "original Password: temp123\n"
     ]
    }
   ],
   "source": [
    "def encrypt_text(inputText, N, D):\n",
    "    # Define valid characters\n",
    "    valid_chars = set(chr(i) for i in range(34, 127)) - set([\" \", \"!\"])\n",
    "\n",
    "    # Reverse input text\n",
    "    inputText = inputText[::-1]\n",
    "\n",
    "    # Shift characters by N positions\n",
    "    encrypted_text = \"\"\n",
    "    for char in inputText:\n",
    "        if char in valid_chars:\n",
    "            char_code = ord(char)\n",
    "            char_code -= 34\n",
    "            char_code += N * D\n",
    "            char_code %= len(valid_chars)\n",
    "            char_code += 34\n",
    "            encrypted_text += chr(char_code)\n",
    "        else:\n",
    "            encrypted_text += char\n",
    "\n",
    "    return encrypted_text\n",
    "\n",
    "def testCustomEncrypt():\n",
    "    #getting the user id \n",
    "    user_id = input('Input a UserID (that does not include \"space\" or \"!\" they will not be encrypted): ')\n",
    "\n",
    "    #getting theuser password\n",
    "    user_password = input('Input a password (that does not include \"space\" or \"!\" they will not be encrypted): ')\n",
    "\n",
    "    #seting n value (must be greater than 1)\n",
    "    N_value = input('Please enter an N value (N must be >=1): ')\n",
    "    N_value = int(N_value)\n",
    "    while N_value < 1:\n",
    "        N_value = input('Please enter an N value (N must be >=1): ')\n",
    "        N_value = int(N_value)\n",
    "\n",
    "    #setting d value (must be 1 or -1)\n",
    "    D_value = input('Please enter an D value (D must be +1 or -1): ')\n",
    "    D_value = int(D_value)\n",
    "    while D_value not in [1,-1]:\n",
    "       D_value = input('Please enter an D value (D must be +1 or -1): ')\n",
    "       D_value = int(D_value)\n",
    "    \n",
    "    # encrypt username\n",
    "    encrypted_user_id = encrypt_text(user_id,N_value,D_value)\n",
    "\n",
    "    # encrypt password\n",
    "    encrypted_password = encrypt_text(user_password,N_value,D_value)\n",
    "\n",
    "    #displaying the encrypted and original username and password \n",
    "    print('encrypted UserID: ' + encrypted_user_id)\n",
    "    print('encrypted Password: ' + encrypted_password)\n",
    "    print('original UserID: ' + user_id)\n",
    "    print('original Password: ' + user_password)\n",
    "\n",
    "\n",
    "testCustomEncrypt()"
   ]
  }
 ],
 "metadata": {
  "kernelspec": {
   "display_name": "Python 3",
   "language": "python",
   "name": "python3"
  },
  "language_info": {
   "codemirror_mode": {
    "name": "ipython",
    "version": 3
   },
   "file_extension": ".py",
   "mimetype": "text/x-python",
   "name": "python",
   "nbconvert_exporter": "python",
   "pygments_lexer": "ipython3",
   "version": "3.10.10"
  },
  "orig_nbformat": 4
 },
 "nbformat": 4,
 "nbformat_minor": 2
}
